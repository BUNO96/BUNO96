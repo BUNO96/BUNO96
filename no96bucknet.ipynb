{
  "nbformat": 4,
  "nbformat_minor": 0,
  "metadata": {
    "colab": {
      "name": "no96bucknet.ipynb",
      "private_outputs": true,
      "provenance": [],
      "mount_file_id": "19L4hKwzNGYmyMQJhUuoQJ6u4Rvpk96J1",
      "authorship_tag": "ABX9TyO/hub5b4/z0uYRxZFlK4BS",
      "include_colab_link": true
    },
    "kernelspec": {
      "name": "python3",
      "display_name": "Python 3"
    },
    "language_info": {
      "name": "python"
    },
    "accelerator": "GPU"
  },
  "cells": [
    {
      "cell_type": "markdown",
      "metadata": {
        "id": "view-in-github",
        "colab_type": "text"
      },
      "source": [
        "<a href=\"https://colab.research.google.com/github/shpark8450/BUNO96/blob/main/no96bucknet.ipynb\" target=\"_parent\"><img src=\"https://colab.research.google.com/assets/colab-badge.svg\" alt=\"Open In Colab\"/></a>"
      ]
    },
    {
      "cell_type": "code",
      "metadata": {
        "id": "67GaBh4L52T1"
      },
      "source": [
        "import pandas as pd\n",
        "import io\n",
        "import tensorflow as tf\n",
        "from tensorflow import keras"
      ],
      "execution_count": null,
      "outputs": []
    },
    {
      "cell_type": "code",
      "metadata": {
        "id": "9G6BxNCD--Mt"
      },
      "source": [
        "from google.colab import drive\n",
        "drive.mount(\"/content/drive\")"
      ],
      "execution_count": null,
      "outputs": []
    },
    {
      "cell_type": "code",
      "metadata": {
        "id": "CUGbkEk2T10l"
      },
      "source": [
        "filename = '/content/drive/MyDrive/sh code/onehotencodingdata.h5'\n",
        "\n",
        "loaded_model = tf.keras.models.load_model(filename)"
      ],
      "execution_count": null,
      "outputs": []
    },
    {
      "cell_type": "code",
      "metadata": {
        "id": "uI0hs_0N-BEz"
      },
      "source": [
        "# loaded_model = tf.keras.models.load_model('onehotencodingdata.h5')"
      ],
      "execution_count": null,
      "outputs": []
    },
    {
      "cell_type": "code",
      "metadata": {
        "id": "H3V06uHx9-gS"
      },
      "source": [
        "column_names = ['CASE','CCS','DSF','Member','Temp','Risetime',\n",
        "                'Load Area', 'BC']\n",
        "\n",
        "#파일의 경로를 첨부해 사용해준다.\n",
        "filename2 = '/content/drive/MyDrive/sh code/input.xlsx'\n",
        "raw_dataset = pd.read_excel(filename2 , names=column_names)\n",
        "\n",
        "# raw_dataset = pd.read_excel(\"c:/users/SHPARK/sh file/input.xlsx\", names=column_names)\n",
        "dataset = raw_dataset.copy()\n",
        "\n",
        " \n",
        "## one-hot encording 해준것 -> 컴퓨터 이진수로 바꾸는것./ 일일이 지정해줘야 한다.\n",
        "ccs = dataset.pop('CCS')\n",
        "dsf = dataset.pop('DSF')\n",
        "member = dataset.pop('Member')\n",
        "temp = dataset.pop('Temp')\n",
        "loadarea = dataset.pop('Load Area')\n",
        "bc = dataset.pop('BC')\n",
        "dataset['1S3S'] = (ccs == '1S3S')*1.0\n",
        "dataset['2S4S'] = (ccs == '2S4S')*1.0\n",
        "dataset['DNVGL'] = (dsf == 'DNVGL')*1.0\n",
        "dataset['DONGA'] = (dsf == 'DONGA')*1.0\n",
        "dataset['Pri BHD'] = (member == 'Pri BHD')*1.0\n",
        "dataset['Sec BHD'] = (member == 'Sec BHD')*1.0\n",
        "dataset['RT'] = (temp == 'RT')*1.0\n",
        "dataset['OT'] = (temp == 'OT')*1.0\n",
        "dataset['A'] = (loadarea == 'A')*1.0\n",
        "dataset['E'] = (loadarea == 'E')*1.0\n",
        "dataset['F'] = (loadarea == 'F')*1.0\n",
        "dataset['G'] = (loadarea == 'G')*1.0\n",
        "dataset['J'] = (loadarea == 'J')*1.0\n",
        "dataset['L'] = (loadarea == 'L')*1.0\n",
        "dataset['O'] = (loadarea == 'O')*1.0\n",
        "dataset['Q'] = (loadarea == 'Q')*1.0\n",
        "dataset['T'] = (loadarea == 'T')*1.0\n",
        "dataset['M'] = (loadarea == 'M')*1.0\n",
        "dataset['R'] = (loadarea == 'R')*1.0\n",
        "dataset['X'] = (loadarea == 'X')*1.0\n",
        "dataset['RIGID'] = (bc == 'RIGID')*1.0\n",
        "dataset['CASE1'] = (bc == 'CASE1')*1.0\n",
        "dataset['CASE2'] = (bc == 'CASE2')*1.0\n",
        "dataset['CASE3'] = (bc == 'CASE3')*1.0\n",
        "dataset['CASE4'] = (bc == 'CASE4')*1.0\n",
        "dataset['CASE5'] = (bc == 'CASE5')*1.0\n",
        "dataset['CASE6'] = (bc == 'CASE6')*1.0\n"
      ],
      "execution_count": null,
      "outputs": []
    },
    {
      "cell_type": "code",
      "metadata": {
        "id": "JZAquBhv-InZ"
      },
      "source": [
        "_# ultimate를 pop해서 train_stats를 나타내주면 ultimate만 뺀 데이터가 뜬다./\n",
        "\n",
        "train_stats = dataset.describe()\n",
        "train_stats = train_stats.transpose()\n",
        "\n",
        "\n",
        "# normerize 해준 데이터들./\n",
        "\n",
        "def norm(x):\n",
        "\n",
        "  return (x - train_stats['mean']) / train_stats['std']\n",
        "\n",
        "normed_test_data = norm(dataset)\n",
        "\n",
        " \n",
        "#h5 file 로 저장해주는것./\n",
        "\n",
        "loaded_model = tf.keras.models.load_model('/content/drive/MyDrive/sh code/onehotencodingdata.h5')\n",
        "loaded_model.summary()\n",
        "\n",
        "all_pre= loaded_model.predict(normed_test_data).flatten()\n"
      ],
      "execution_count": null,
      "outputs": []
    },
    {
      "cell_type": "code",
      "metadata": {
        "id": "GvHf_34T-HS5"
      },
      "source": [
        ""
      ],
      "execution_count": null,
      "outputs": []
    },
    {
      "cell_type": "code",
      "metadata": {
        "id": "Vfco6wLi-BXK"
      },
      "source": [
        ""
      ],
      "execution_count": null,
      "outputs": []
    }
  ]
}