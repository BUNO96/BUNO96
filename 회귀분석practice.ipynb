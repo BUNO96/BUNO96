{
  "nbformat": 4,
  "nbformat_minor": 0,
  "metadata": {
    "colab": {
      "name": "회귀분석practice.ipynb",
      "private_outputs": true,
      "provenance": [],
      "collapsed_sections": [],
      "mount_file_id": "12EhUzYznnK-f0C5u2u9P7B63Iz6qIqHq",
      "authorship_tag": "ABX9TyMnGhgrixu2ptQCFEyyuNpJ",
      "include_colab_link": true
    },
    "kernelspec": {
      "name": "python3",
      "display_name": "Python 3"
    },
    "language_info": {
      "name": "python"
    }
  },
  "cells": [
    {
      "cell_type": "markdown",
      "metadata": {
        "id": "view-in-github",
        "colab_type": "text"
      },
      "source": [
        "<a href=\"https://colab.research.google.com/github/BUNO96/BUNO96/blob/main/%ED%9A%8C%EA%B7%80%EB%B6%84%EC%84%9Dpractice.ipynb\" target=\"_parent\"><img src=\"https://colab.research.google.com/assets/colab-badge.svg\" alt=\"Open In Colab\"/></a>"
      ]
    },
    {
      "cell_type": "code",
      "metadata": {
        "id": "2ppRyoSNeLmZ"
      },
      "source": [
        "from google.colab import drive\n",
        "drive.mount('/content/drive')"
      ],
      "execution_count": null,
      "outputs": []
    },
    {
      "cell_type": "code",
      "metadata": {
        "id": "BRlNi5tkfBRD"
      },
      "source": [
        "from sklearn.linear_model import LinearRegression\n",
        "import pandas as pd\n",
        "import numpy as np\n",
        "import matplotlib.pyplot as plt\n",
        "import sklearn"
      ],
      "execution_count": null,
      "outputs": []
    },
    {
      "cell_type": "markdown",
      "metadata": {
        "id": "3O0NDAoiYbQe"
      },
      "source": [
        ""
      ]
    },
    {
      "cell_type": "code",
      "metadata": {
        "id": "kO1aIx81eSkP"
      },
      "source": [
        "from sklearn.datasets import load_boston\n",
        "\n",
        "boston = load_boston()\n",
        "# dir -> 문자열을 반환하는 명령어\n",
        "dir(boston)"
      ],
      "execution_count": null,
      "outputs": []
    },
    {
      "cell_type": "code",
      "metadata": {
        "id": "ZtPjYeS9eSr_"
      },
      "source": [
        "dfX = pd.DataFrame(boston.data, columns=boston.feature_names)\n",
        "dfy = pd.DataFrame(boston.target, columns=[\"MEDV\"])"
      ],
      "execution_count": null,
      "outputs": []
    },
    {
      "cell_type": "code",
      "metadata": {
        "id": "phXPwFl7eS1P"
      },
      "source": [
        "df = pd.concat([dfX, dfy], axis=1)\n",
        "df.tail()"
      ],
      "execution_count": null,
      "outputs": []
    },
    {
      "cell_type": "code",
      "metadata": {
        "id": "ghqWDY-af24B"
      },
      "source": [
        "import seaborn as sns\n",
        "sns.pairplot(df[[\"MEDV\", \"RM\", \"AGE\", \"CHAS\"]])\n",
        "plt.show()"
      ],
      "execution_count": null,
      "outputs": []
    },
    {
      "cell_type": "code",
      "metadata": {
        "id": "Q9c3UsClgcon"
      },
      "source": [
        "from sklearn.datasets import load_diabetes\n",
        "\n",
        "diabetes = load_diabetes()\n",
        "df = pd.DataFrame(diabetes.data, columns=diabetes.feature_names)\n",
        "df[\"target\"] = diabetes.target\n",
        "df.tail()"
      ],
      "execution_count": null,
      "outputs": []
    },
    {
      "cell_type": "code",
      "metadata": {
        "id": "x3IJ5V-GghMB"
      },
      "source": [
        "sns.pairplot(df[[\"target\", \"bmi\", \"bp\", \"s1\"]])\n",
        "plt.show()"
      ],
      "execution_count": null,
      "outputs": []
    },
    {
      "cell_type": "code",
      "metadata": {
        "id": "7CEgfNhMghOZ"
      },
      "source": [
        "#make_regression-> 가상의 데이터를 만드는 명령어\n",
        "from sklearn.datasets import make_regression\n",
        "\n",
        "X, y, w = make_regression(\n",
        "    n_samples=50, n_features=1, bias=100, noise=10, coef=True, random_state=0\n",
        ")\n",
        "\n",
        "xx = np.linspace(-3, 3, 100)\n",
        "y0 = w * xx + 100\n",
        "plt.plot(xx, y0, \"r-\")\n",
        "plt.scatter(X, y, s=100)\n",
        "plt.xlabel(\"x\")\n",
        "plt.ylabel(\"y\")\n",
        "plt.title(\"make_regression 예제\")\n",
        "plt.show()"
      ],
      "execution_count": null,
      "outputs": []
    },
    {
      "cell_type": "code",
      "metadata": {
        "id": "EXDqBkh2ghQp"
      },
      "source": [
        "import matplotlib.pyplot as mpl\n",
        "\n",
        "X, y, w = make_regression(\n",
        "    n_samples=300, n_features=2, noise=10, coef=True, random_state=0\n",
        ")\n",
        "\n",
        "plt.scatter(X[:, 0], X[:, 1], c=y, s=100, cmap=mpl.cm.bone)\n",
        "plt.xlabel(\"x1\")\n",
        "plt.ylabel(\"x2\")\n",
        "plt.axis(\"equal\")\n",
        "plt.title('두 독립변수가 서로 독립이고 둘 다 종속변수와 상관 관계가 있는 경우')\n",
        "plt.show()"
      ],
      "execution_count": null,
      "outputs": []
    },
    {
      "cell_type": "code",
      "metadata": {
        "id": "so_4iSLoghSx"
      },
      "source": [
        "X, y, w = make_regression(\n",
        "    n_samples=300, n_features=2, n_informative=1, noise=0, coef=True, random_state=0\n",
        ")\n",
        "\n",
        "plt.scatter(X[:, 0], X[:, 1], c=y, s=100, cmap=mpl.cm.bone)\n",
        "plt.xlabel(\"x1\")\n",
        "plt.ylabel(\"x2\")\n",
        "plt.axis(\"equal\")\n",
        "plt.title(\"두 독립변수가 서로 독립이고 둘 중 하나만 종속변수와 상관 관계가 있는 경우\")\n",
        "plt.show()"
      ],
      "execution_count": null,
      "outputs": []
    },
    {
      "cell_type": "code",
      "metadata": {
        "id": "3vZcQp7AghUx"
      },
      "source": [
        "X, y, w = make_regression(\n",
        "    n_samples=300, n_features=2, effective_rank=1, noise=0, coef=True, random_state=0,\n",
        "    tail_strength=0\n",
        ")\n",
        "\n",
        "plt.scatter(X[:, 0], X[:, 1], c=y, s=100, cmap=mpl.cm.bone)\n",
        "plt.xlabel(\"x1\")\n",
        "plt.ylabel(\"x2\")\n",
        "plt.axis(\"equal\")\n",
        "plt.title(\"두 독립변수가 독립이 아닌 경우\")\n",
        "plt.show()"
      ],
      "execution_count": null,
      "outputs": []
    },
    {
      "cell_type": "code",
      "metadata": {
        "id": "bLCk9WuZ4B6r"
      },
      "source": [
        ""
      ],
      "execution_count": null,
      "outputs": []
    },
    {
      "cell_type": "code",
      "metadata": {
        "id": "uXit7xbw4Bzb"
      },
      "source": [
        ""
      ],
      "execution_count": null,
      "outputs": []
    },
    {
      "cell_type": "code",
      "metadata": {
        "id": "I6qBxZaq4Bqs"
      },
      "source": [
        ""
      ],
      "execution_count": null,
      "outputs": []
    },
    {
      "cell_type": "code",
      "metadata": {
        "id": "AeFBARZm4Bh7"
      },
      "source": [
        ""
      ],
      "execution_count": null,
      "outputs": []
    },
    {
      "cell_type": "code",
      "metadata": {
        "id": "EY4wra_A4BXT"
      },
      "source": [
        ""
      ],
      "execution_count": null,
      "outputs": []
    },
    {
      "cell_type": "code",
      "metadata": {
        "id": "AOJRc_XT4BKL"
      },
      "source": [
        ""
      ],
      "execution_count": null,
      "outputs": []
    },
    {
      "cell_type": "code",
      "metadata": {
        "id": "F36lYcK14AaM"
      },
      "source": [
        ""
      ],
      "execution_count": null,
      "outputs": []
    }
  ]
}